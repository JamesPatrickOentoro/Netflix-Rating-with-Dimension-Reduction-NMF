{
 "cells": [
  {
   "cell_type": "code",
   "execution_count": 1,
   "id": "c1a9252f",
   "metadata": {},
   "outputs": [
    {
     "data": {
      "text/html": [
       "<div>\n",
       "<style scoped>\n",
       "    .dataframe tbody tr th:only-of-type {\n",
       "        vertical-align: middle;\n",
       "    }\n",
       "\n",
       "    .dataframe tbody tr th {\n",
       "        vertical-align: top;\n",
       "    }\n",
       "\n",
       "    .dataframe thead th {\n",
       "        text-align: right;\n",
       "    }\n",
       "</style>\n",
       "<table border=\"1\" class=\"dataframe\">\n",
       "  <thead>\n",
       "    <tr style=\"text-align: right;\">\n",
       "      <th></th>\n",
       "      <th>movie_id</th>\n",
       "      <th>customer_id</th>\n",
       "      <th>rating</th>\n",
       "      <th>date</th>\n",
       "    </tr>\n",
       "  </thead>\n",
       "  <tbody>\n",
       "    <tr>\n",
       "      <th>0</th>\n",
       "      <td>1</td>\n",
       "      <td>1488844</td>\n",
       "      <td>3</td>\n",
       "      <td>2005-09-06</td>\n",
       "    </tr>\n",
       "    <tr>\n",
       "      <th>1</th>\n",
       "      <td>1</td>\n",
       "      <td>822109</td>\n",
       "      <td>5</td>\n",
       "      <td>2005-05-13</td>\n",
       "    </tr>\n",
       "    <tr>\n",
       "      <th>2</th>\n",
       "      <td>1</td>\n",
       "      <td>885013</td>\n",
       "      <td>4</td>\n",
       "      <td>2005-10-19</td>\n",
       "    </tr>\n",
       "    <tr>\n",
       "      <th>3</th>\n",
       "      <td>1</td>\n",
       "      <td>30878</td>\n",
       "      <td>4</td>\n",
       "      <td>2005-12-26</td>\n",
       "    </tr>\n",
       "    <tr>\n",
       "      <th>4</th>\n",
       "      <td>1</td>\n",
       "      <td>823519</td>\n",
       "      <td>3</td>\n",
       "      <td>2004-05-03</td>\n",
       "    </tr>\n",
       "  </tbody>\n",
       "</table>\n",
       "</div>"
      ],
      "text/plain": [
       "   movie_id  customer_id  rating        date\n",
       "0         1      1488844       3  2005-09-06\n",
       "1         1       822109       5  2005-05-13\n",
       "2         1       885013       4  2005-10-19\n",
       "3         1        30878       4  2005-12-26\n",
       "4         1       823519       3  2004-05-03"
      ]
     },
     "execution_count": 1,
     "metadata": {},
     "output_type": "execute_result"
    }
   ],
   "source": [
    "from datetime import datetime\n",
    "import pandas as pd\n",
    "import numpy as np\n",
    "import seaborn as sns\n",
    "import os\n",
    "import random\n",
    "import matplotlib\n",
    "import matplotlib.pyplot as plt\n",
    "from scipy import sparse\n",
    "def load_data():\n",
    "    netflix_csv_file = open(\"netflix_rating.csv\", mode = \"w\")\n",
    "    rating_files = ['combined_data_1.txt','combined_data_2.txt','combined_data_3.txt','combined_data_4.txt']\n",
    "    for file in rating_files:\n",
    "        with open(file) as f:\n",
    "            for line in f:\n",
    "                line = line.strip()\n",
    "                if line.endswith(\":\"):\n",
    "                    movie_id = line.replace(\":\", \"\")\n",
    "                else:\n",
    "                    row_data = []\n",
    "                    row_data = [item for item in line.split(\",\")]\n",
    "                    row_data.insert(0, movie_id)\n",
    "                    netflix_csv_file.write(\",\".join(row_data))  \n",
    "                    netflix_csv_file.write('\\n')\n",
    "                    \n",
    "    netflix_csv_file.close()\n",
    "    df = pd.read_csv('netflix_rating.csv', sep=\",\", names = [\"movie_id\",\"customer_id\", \"rating\", \"date\"])\n",
    "    return df\n",
    "netflix_rating_df = load_data()\n",
    "netflix_rating_df.head()"
   ]
  },
  {
   "cell_type": "code",
   "execution_count": 2,
   "id": "97b13528",
   "metadata": {},
   "outputs": [],
   "source": [
    "netflix_rating_df.drop_duplicates(inplace=True)"
   ]
  },
  {
   "cell_type": "code",
   "execution_count": 3,
   "id": "c53bbd35",
   "metadata": {},
   "outputs": [
    {
     "name": "stdout",
     "output_type": "stream",
     "text": [
      "(2649430, 17771) 100480507\n"
     ]
    }
   ],
   "source": [
    "from pandas.api.types import CategoricalDtype\n",
    "from scipy import sparse\n",
    "\n",
    "users = netflix_rating_df[\"customer_id\"]\n",
    "movies = netflix_rating_df[\"movie_id\"]\n",
    "shape = (2649430, 17771)\n",
    "print(shape,netflix_rating_df[\"rating\"].size )\n",
    "\n",
    "coo = sparse.coo_matrix((netflix_rating_df[\"rating\"], (users, movies)), shape=shape)\n",
    "csr = coo.tocsr()"
   ]
  },
  {
   "cell_type": "code",
   "execution_count": 4,
   "id": "cdc1bbc3",
   "metadata": {},
   "outputs": [
    {
     "data": {
      "text/plain": [
       "3"
      ]
     },
     "execution_count": 4,
     "metadata": {},
     "output_type": "execute_result"
    }
   ],
   "source": [
    "csr[1488844,1]"
   ]
  },
  {
   "cell_type": "code",
   "execution_count": 5,
   "id": "dff77377",
   "metadata": {},
   "outputs": [
    {
     "data": {
      "text/plain": [
       "(2649430, 17771)"
      ]
     },
     "execution_count": 5,
     "metadata": {},
     "output_type": "execute_result"
    }
   ],
   "source": [
    "csr.shape"
   ]
  },
  {
   "cell_type": "code",
   "execution_count": 6,
   "id": "595bc43a",
   "metadata": {},
   "outputs": [],
   "source": [
    "from sklearn.decomposition import NMF\n",
    "import numpy as np\n",
    "nmf = NMF(n_components=3, init='random', random_state=0)\n",
    "W = nmf.fit_transform(csr)\n",
    "H = nmf.components_\n",
    "# nR = np.dot(W,H)\n",
    "# print(nR)"
   ]
  },
  {
   "cell_type": "code",
   "execution_count": 7,
   "id": "4a3b7a66",
   "metadata": {},
   "outputs": [
    {
     "data": {
      "text/plain": [
       "(2649430, 3)"
      ]
     },
     "execution_count": 7,
     "metadata": {},
     "output_type": "execute_result"
    }
   ],
   "source": [
    "W.shape #user"
   ]
  },
  {
   "cell_type": "code",
   "execution_count": 8,
   "id": "9f285bad",
   "metadata": {},
   "outputs": [
    {
     "data": {
      "text/plain": [
       "array([[0.        , 0.        , 0.        ],\n",
       "       [0.        , 0.        , 0.        ],\n",
       "       [0.        , 0.        , 0.        ],\n",
       "       ...,\n",
       "       [0.        , 0.        , 0.        ],\n",
       "       [0.        , 0.        , 0.        ],\n",
       "       [1.80649668, 0.94484317, 0.00727281]])"
      ]
     },
     "execution_count": 8,
     "metadata": {},
     "output_type": "execute_result"
    }
   ],
   "source": [
    "W"
   ]
  },
  {
   "cell_type": "code",
   "execution_count": 9,
   "id": "f90912ca",
   "metadata": {},
   "outputs": [
    {
     "data": {
      "text/plain": [
       "(3, 17771)"
      ]
     },
     "execution_count": 9,
     "metadata": {},
     "output_type": "execute_result"
    }
   ],
   "source": [
    "H.shape #movie"
   ]
  },
  {
   "cell_type": "markdown",
   "id": "71936961",
   "metadata": {},
   "source": [
    "## Prediksi Data Probe.txt"
   ]
  },
  {
   "cell_type": "code",
   "execution_count": 10,
   "id": "3a2e4d20",
   "metadata": {},
   "outputs": [],
   "source": [
    "probe_mov_id = []\n",
    "probe_user_id = []\n",
    "\n",
    "f = open(\"probe.txt\", \"r\")\n",
    "movie_id = \"\"\n",
    "\n",
    "for x in f:\n",
    "    if x.strip()[-1] == \":\":\n",
    "        movie_id = int(x.strip()[:-1])\n",
    "    else:\n",
    "        cust_id = int(x)\n",
    "        probe_mov_id.append(movie_id)\n",
    "        probe_user_id.append(cust_id)\n",
    "        \n",
    "f.close()"
   ]
  },
  {
   "cell_type": "code",
   "execution_count": 11,
   "id": "1a02ef49",
   "metadata": {},
   "outputs": [
    {
     "data": {
      "text/plain": [
       "1408395"
      ]
     },
     "execution_count": 11,
     "metadata": {},
     "output_type": "execute_result"
    }
   ],
   "source": [
    "len(probe_user_id)"
   ]
  },
  {
   "cell_type": "code",
   "execution_count": 12,
   "id": "1bc646e7",
   "metadata": {},
   "outputs": [
    {
     "data": {
      "text/plain": [
       "1408395"
      ]
     },
     "execution_count": 12,
     "metadata": {},
     "output_type": "execute_result"
    }
   ],
   "source": [
    "len(probe_mov_id)"
   ]
  },
  {
   "cell_type": "code",
   "execution_count": 13,
   "id": "7ccfc29d",
   "metadata": {},
   "outputs": [],
   "source": [
    "y_pred = []\n",
    "y_actual = []\n",
    "for mov,user in zip(probe_mov_id,probe_user_id):\n",
    "    y_pred.append(W[user]@H[:,mov])\n",
    "    y_actual.append(csr[user,mov])\n",
    "    "
   ]
  },
  {
   "cell_type": "code",
   "execution_count": 14,
   "id": "0efc664f",
   "metadata": {},
   "outputs": [],
   "source": [
    "from sklearn.metrics import mean_squared_error\n",
    "\n",
    "rms = mean_squared_error(y_actual, y_pred, squared=False)"
   ]
  },
  {
   "cell_type": "code",
   "execution_count": 15,
   "id": "58728ffc",
   "metadata": {},
   "outputs": [
    {
     "data": {
      "text/plain": [
       "3.4596167909989295"
      ]
     },
     "execution_count": 15,
     "metadata": {},
     "output_type": "execute_result"
    }
   ],
   "source": [
    "rms"
   ]
  },
  {
   "cell_type": "markdown",
   "id": "6b9928fa",
   "metadata": {},
   "source": [
    "## Prediksi Data train"
   ]
  },
  {
   "cell_type": "code",
   "execution_count": null,
   "id": "96bd64e2",
   "metadata": {},
   "outputs": [],
   "source": [
    "y_pred = []\n",
    "y_actual = []\n",
    "for mov,user in zip(movies,users):\n",
    "    y_pred.append(W[user]@H[:,mov])\n",
    "    y_actual.append(csr[user,mov])"
   ]
  },
  {
   "cell_type": "code",
   "execution_count": null,
   "id": "5bca8aaf",
   "metadata": {},
   "outputs": [],
   "source": [
    "rms = mean_squared_error(y_actual, y_pred, squared=False)\n",
    "rms"
   ]
  },
  {
   "cell_type": "code",
   "execution_count": null,
   "id": "eee8e4a7",
   "metadata": {},
   "outputs": [],
   "source": []
  }
 ],
 "metadata": {
  "kernelspec": {
   "display_name": "Python 3 (ipykernel)",
   "language": "python",
   "name": "python3"
  },
  "language_info": {
   "codemirror_mode": {
    "name": "ipython",
    "version": 3
   },
   "file_extension": ".py",
   "mimetype": "text/x-python",
   "name": "python",
   "nbconvert_exporter": "python",
   "pygments_lexer": "ipython3",
   "version": "3.8.5"
  }
 },
 "nbformat": 4,
 "nbformat_minor": 5
}
